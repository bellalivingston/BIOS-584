{
 "cells": [
  {
   "cell_type": "markdown",
   "id": "3316b30f-39ee-4062-bd80-02ee29cd8166",
   "metadata": {},
   "source": [
    "This is my first Jupyter notebook"
   ]
  },
  {
   "cell_type": "code",
   "execution_count": 5,
   "id": "e5c3b2df-e1d4-4fc7-87e7-5d1b924fb546",
   "metadata": {},
   "outputs": [
    {
     "name": "stdout",
     "output_type": "stream",
     "text": [
      "my name is Bella Livingston\n"
     ]
    }
   ],
   "source": [
    "print(\"my name is Bella Livingston\")"
   ]
  },
  {
   "cell_type": "code",
   "execution_count": null,
   "id": "365f72a2-85b7-4459-ae36-284e1c337f20",
   "metadata": {},
   "outputs": [],
   "source": []
  }
 ],
 "metadata": {
  "kernelspec": {
   "display_name": "Python 3 (ipykernel)",
   "language": "python",
   "name": "python3"
  },
  "language_info": {
   "codemirror_mode": {
    "name": "ipython",
    "version": 3
   },
   "file_extension": ".py",
   "mimetype": "text/x-python",
   "name": "python",
   "nbconvert_exporter": "python",
   "pygments_lexer": "ipython3",
   "version": "3.13.5"
  }
 },
 "nbformat": 4,
 "nbformat_minor": 5
}
