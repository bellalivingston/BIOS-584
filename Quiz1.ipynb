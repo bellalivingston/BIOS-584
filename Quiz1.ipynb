{
 "cells": [
  {
   "cell_type": "markdown",
   "id": "f3652dee-1d69-498f-83ba-aa249ffbe5b8",
   "metadata": {},
   "source": [
    "Bella Livingston"
   ]
  },
  {
   "cell_type": "code",
   "execution_count": 10,
   "id": "b145d618-43b5-40a6-a9b8-9790e159111f",
   "metadata": {},
   "outputs": [
    {
     "name": "stdout",
     "output_type": "stream",
     "text": [
      "['cat1', 'cat1', 'cat1', 'cat2']\n"
     ]
    }
   ],
   "source": [
    "cat_ls1 = ['cat1', 'cat1', 'cat1']\n",
    "cat_ls1.append('cat2')\n",
    "print(cat_ls1)"
   ]
  },
  {
   "cell_type": "code",
   "execution_count": 11,
   "id": "6a03fd93-9dbf-4b0a-9cb0-55fdcc34a9b5",
   "metadata": {},
   "outputs": [
    {
     "name": "stdout",
     "output_type": "stream",
     "text": [
      "[]\n"
     ]
    }
   ],
   "source": [
    "cat_ls2 = ['cat1', 'cat1', 'cat1']\n",
    "cat_ls2.clear()\n",
    "print(cat_ls2)"
   ]
  },
  {
   "cell_type": "code",
   "execution_count": 12,
   "id": "5c88c223-f7d3-4dc4-815f-f396a88e0787",
   "metadata": {},
   "outputs": [
    {
     "name": "stdout",
     "output_type": "stream",
     "text": [
      "['cat1', 'cat1', 'cat1']\n"
     ]
    }
   ],
   "source": [
    "cat_ls3 = ['cat1', 'cat1', 'cat1']\n",
    "cat_ls3.copy()\n",
    "print(cat_ls3)"
   ]
  },
  {
   "cell_type": "code",
   "execution_count": 13,
   "id": "dad54f24-5a53-4831-ac78-5bf14b5852d2",
   "metadata": {},
   "outputs": [
    {
     "name": "stdout",
     "output_type": "stream",
     "text": [
      "['cat1', 'cat1', 'cat2']\n"
     ]
    }
   ],
   "source": [
    "cat_ls4 = ['cat1', 'cat1', 'cat2']\n",
    "cat_ls4.count('cat1')\n",
    "print(cat_ls4)"
   ]
  },
  {
   "cell_type": "code",
   "execution_count": 14,
   "id": "1c755d2a-1a4d-49ad-89bc-19559c2ed711",
   "metadata": {},
   "outputs": [
    {
     "name": "stdout",
     "output_type": "stream",
     "text": [
      "['cat1', 'cat1', 'cat2']\n"
     ]
    }
   ],
   "source": [
    "cat_ls5 = ['cat1', 'cat1', 'cat2']\n",
    "cat_ls5.index('cat2')\n",
    "print(cat_ls5)"
   ]
  },
  {
   "cell_type": "code",
   "execution_count": 15,
   "id": "3c948194-ec6b-407a-b7af-f1070dc4ffd2",
   "metadata": {},
   "outputs": [
    {
     "name": "stdout",
     "output_type": "stream",
     "text": [
      "['cat1', 'cat2', 'cat1', 'cat2']\n"
     ]
    }
   ],
   "source": [
    "cat_ls6 = ['cat1', 'cat1', 'cat2']\n",
    "cat_ls6.insert(1, 'cat2')\n",
    "print(cat_ls6)"
   ]
  },
  {
   "cell_type": "code",
   "execution_count": 16,
   "id": "700e22ed-53d1-41e5-9df8-f12de2960295",
   "metadata": {},
   "outputs": [
    {
     "name": "stdout",
     "output_type": "stream",
     "text": [
      "['cat1', 'cat1']\n"
     ]
    }
   ],
   "source": [
    "cat_ls7 = ['cat1', 'cat1', 'cat2']\n",
    "cat_ls7.pop(2)\n",
    "print(cat_ls7)"
   ]
  },
  {
   "cell_type": "code",
   "execution_count": 18,
   "id": "fca33d36-dd99-45ca-915c-d442c10331b6",
   "metadata": {},
   "outputs": [
    {
     "name": "stdout",
     "output_type": "stream",
     "text": [
      "['cat1', 'cat1']\n"
     ]
    }
   ],
   "source": [
    "cat_ls8 = ['cat1', 'cat1', 'cat2']\n",
    "cat_ls8.remove('cat2')\n",
    "print(cat_ls8)"
   ]
  },
  {
   "cell_type": "code",
   "execution_count": 19,
   "id": "eafcf73d-358a-4c67-84a8-aeb92f077122",
   "metadata": {},
   "outputs": [
    {
     "name": "stdout",
     "output_type": "stream",
     "text": [
      "['cat2', 'cat1', 'cat1']\n"
     ]
    }
   ],
   "source": [
    "cat_ls9 = ['cat1', 'cat1', 'cat2']\n",
    "cat_ls9.reverse()\n",
    "print(cat_ls9)"
   ]
  },
  {
   "cell_type": "code",
   "execution_count": null,
   "id": "45f7c804-ed19-4dea-9053-880afd0dec22",
   "metadata": {},
   "outputs": [],
   "source": []
  }
 ],
 "metadata": {
  "kernelspec": {
   "display_name": "Python 3 (ipykernel)",
   "language": "python",
   "name": "python3"
  },
  "language_info": {
   "codemirror_mode": {
    "name": "ipython",
    "version": 3
   },
   "file_extension": ".py",
   "mimetype": "text/x-python",
   "name": "python",
   "nbconvert_exporter": "python",
   "pygments_lexer": "ipython3",
   "version": "3.13.5"
  }
 },
 "nbformat": 4,
 "nbformat_minor": 5
}
